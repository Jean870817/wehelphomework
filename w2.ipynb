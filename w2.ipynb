{
  "nbformat": 4,
  "nbformat_minor": 0,
  "metadata": {
    "colab": {
      "provenance": [],
      "authorship_tag": "ABX9TyOAlMPwQfozahxyxqlxlPDv",
      "include_colab_link": true
    },
    "kernelspec": {
      "name": "python3",
      "display_name": "Python 3"
    },
    "language_info": {
      "name": "python"
    }
  },
  "cells": [
    {
      "cell_type": "markdown",
      "metadata": {
        "id": "view-in-github",
        "colab_type": "text"
      },
      "source": [
        "<a href=\"https://colab.research.google.com/github/Jean870817/wehelphomework/blob/main/w2.ipynb\" target=\"_parent\"><img src=\"https://colab.research.google.com/assets/colab-badge.svg\" alt=\"Open In Colab\"/></a>"
      ]
    },
    {
      "cell_type": "markdown",
      "source": [
        "task 1"
      ],
      "metadata": {
        "id": "FSOTfQ6IDqdS"
      }
    },
    {
      "cell_type": "code",
      "execution_count": null,
      "metadata": {
        "colab": {
          "base_uri": "https://localhost:8080/"
        },
        "id": "GbxnPZQufQ8H",
        "outputId": "32c8278c-583d-4eeb-b477-dbc44c571d6f"
      },
      "outputs": [
        {
          "output_type": "stream",
          "name": "stdout",
          "text": [
            "Mary\n",
            "Copper\n",
            "Leslie\n",
            "Bob\n",
            "Vivian\n"
          ]
        }
      ],
      "source": [
        "def find_and_print(messages, current_station):\n",
        "\n",
        "  station_dict = {\n",
        "     \"Songshan\":1,\n",
        "     \"Nanjing Sanmin\":2,\n",
        "     \"Taipei Arena\":3,\n",
        "     \"Nanjing Fuxing\":4,\n",
        "     \"Songjiang Nanjing\":5,\n",
        "     \"Zhongshan\":6,\n",
        "     \"Beimen\":7,\n",
        "     \"Ximen\":8,\n",
        "     \"Xiaonanmen\":9,\n",
        "     \"Chiang Kai-shek Memorial Hal\":10,\n",
        "     \"Guting\":11,\n",
        "     \"Taipower Building\":12,\n",
        "     \"Gongguan\":13,\n",
        "     \"Wanlong\":14,\n",
        "     \"Jingmei\":15,\n",
        "     \"Dapinglin\":16,\n",
        "     \"Qizhang\":17,\n",
        "     \"Xiaobitan\":17.1,\n",
        "     \"Xindian City Hall\":18.1,\n",
        "     \"Xindian\":19}\n",
        "\n",
        "  person_position = []\n",
        "\n",
        "  for person, message in messages.items():\n",
        "        for station, value in station_dict.items():\n",
        "            if station in message:\n",
        "              person_position.append(value)\n",
        "\n",
        "  current_station_value = station_dict[current_station]\n",
        "\n",
        "  distance = [current_station_value - n for n in person_position]\n",
        "  min_value_index = min(distance, key=lambda n: abs(n))\n",
        "  index_of_min_value = distance.index(min_value_index)\n",
        "  print(list(messages.keys())[index_of_min_value])\n",
        "\n",
        "messages={\n",
        "\"Leslie\":\"I'm at home near Xiaobitan station.\",\n",
        "\"Bob\":\"I'm at Ximen MRT station.\",\n",
        "\"Mary\":\"I have a drink near Jingmei MRT station.\",\n",
        "\"Copper\":\"I just saw a concert at Taipei Arena.\",\n",
        "\"Vivian\":\"I'm at Xindian station waiting for you.\"\n",
        "}\n",
        "\n",
        "find_and_print(messages, \"Wanlong\")\n",
        "find_and_print(messages, \"Songshan\")\n",
        "find_and_print(messages, \"Qizhang\") # print Leslie\n",
        "find_and_print(messages, \"Ximen\") # print Bob\n",
        "find_and_print(messages, \"Xindian City Hall\") # print Vivian\n",
        "\n"
      ]
    },
    {
      "cell_type": "markdown",
      "source": [
        "task 3"
      ],
      "metadata": {
        "id": "oHYxOhujD0er"
      }
    },
    {
      "cell_type": "code",
      "source": [
        "def func(*data):\n",
        "  middle_name_list = []\n",
        "\n",
        "  for name in data:\n",
        "      middle_name = name[int(len(name)/2+1)-1]\n",
        "      middle_name_list.append(middle_name)\n",
        "\n",
        "  unique_middle_name = []\n",
        "\n",
        "  for i, middle_name in enumerate(middle_name_list):\n",
        "    count = middle_name_list.count(middle_name)\n",
        "    if count == 1:\n",
        "      unique_middle_name.append(data[i])\n",
        "\n",
        "  if len(unique_middle_name):\n",
        "    for result in unique_middle_name:\n",
        "      print(result)\n",
        "\n",
        "  else:\n",
        "    print(\"沒有\")\n",
        "\n",
        "\n",
        "func(\"彭大牆\", \"陳王明雅\", \"吳明\") # print 彭大牆\n",
        "func(\"郭靜雅\", \"王立強\", \"郭林靜宜\", \"郭立恆\", \"林花花\") # print 林花花\n",
        "func(\"郭宣雅\", \"林靜宜\", \"郭宣恆\", \"林靜花\") # print 沒有\n",
        "func(\"郭宣雅\", \"夏曼藍波安\", \"郭宣恆\") # print 夏曼藍波安\n",
        "\n",
        "\n",
        "\n",
        "\n",
        "\n"
      ],
      "metadata": {
        "colab": {
          "base_uri": "https://localhost:8080/"
        },
        "id": "A-IAPgYeYouG",
        "outputId": "fafa01d7-194f-4ec1-e751-253f2483c21f"
      },
      "execution_count": null,
      "outputs": [
        {
          "output_type": "stream",
          "name": "stdout",
          "text": [
            "彭大牆\n",
            "林花花\n",
            "沒有\n",
            "夏曼藍波安\n"
          ]
        }
      ]
    },
    {
      "cell_type": "markdown",
      "source": [
        "Task2"
      ],
      "metadata": {
        "id": "ZPKaOKzEYltn"
      }
    },
    {
      "cell_type": "code",
      "source": [
        "occupied = {\n",
        "    \"John\": [],\n",
        "    \"Bob\": [],\n",
        "    \"Jenny\": []\n",
        "}\n",
        "\n",
        "def book(consultants, hour, duration, criteria):\n",
        "    available_consultants = []\n",
        "    intend_hours = (hour, hour + duration) # (15, 16)\n",
        "    for consultant, booked_time in occupied.items():\n",
        "        available = True\n",
        "        for booked_hours in booked_time:\n",
        "            if ((booked_hours[0] <= intend_hours[0] <= booked_hours[1]) or (booked_hours[0] <= intend_hours[1] <= booked_hours[1])) or (intend_hours[0] <= booked_hours[0] and intend_hours[1] >= booked_hours[1]):\n",
        "                available = False\n",
        "                break\n",
        "        if available:\n",
        "            available_consultants.append(consultant)\n",
        "\n",
        "    if len(available_consultants):\n",
        "        cc = []\n",
        "        for c in consultants:\n",
        "            if c['name'] in available_consultants:\n",
        "                cc.append(c)\n",
        "#         cc = filter(lambda person: person[\"name\"] in available_consultants, consultants) cc也可以用這一行就好\n",
        "        if criteria == \"price\":\n",
        "            best_consultant = min(cc, key=lambda x: x[\"price\"])[\"name\"]\n",
        "        elif criteria == \"rate\":\n",
        "            best_consultant = max(cc, key=lambda x: x[\"rate\"])[\"name\"]\n",
        "        print(best_consultant)\n",
        "        occupied[best_consultant].append(intend_hours)\n",
        "    else:\n",
        "        print(\"No Service\")\n",
        "\n",
        "\n",
        "consultants=[\n",
        "    {\"name\":\"John\", \"rate\": 4.5, \"price\": 1000},\n",
        "    {\"name\":\"Bob\", \"rate\": 3, \"price\": 1200},\n",
        "    {\"name\":\"Jenny\", \"rate\": 3.8, \"price\": 800}\n",
        "]\n",
        "book(consultants, 15, 1, \"price\") # Jenny\n",
        "book(consultants, 11, 2, \"price\") # Jenny\n",
        "book(consultants, 10, 2, \"price\") # John\n",
        "book(consultants, 20, 2, \"rate\") # John\n",
        "book(consultants, 11, 1, \"rate\") # Bob\n",
        "book(consultants, 11, 2, \"rate\") # No Service"
      ],
      "metadata": {
        "colab": {
          "base_uri": "https://localhost:8080/"
        },
        "id": "DEqCfVsv1lxu",
        "outputId": "a4e88415-6a25-4fbe-ce43-38f86cafee7b"
      },
      "execution_count": null,
      "outputs": [
        {
          "output_type": "stream",
          "name": "stdout",
          "text": [
            "Jenny\n",
            "Jenny\n",
            "John\n",
            "John\n",
            "Bob\n",
            "No Service\n"
          ]
        }
      ]
    },
    {
      "cell_type": "markdown",
      "source": [
        "task 4"
      ],
      "metadata": {
        "id": "SY_EnKcjD5gx"
      }
    },
    {
      "cell_type": "code",
      "source": [
        "def get_number(index):\n",
        "    a = index//3\n",
        "    b = index%3\n",
        "    c = 7*a + b*4\n",
        "    return c\n",
        "\n",
        "print(get_number(1))\n",
        "print(get_number(5))\n",
        "print(get_number(10))\n",
        "print(get_number(30))"
      ],
      "metadata": {
        "colab": {
          "base_uri": "https://localhost:8080/"
        },
        "id": "9csWgfdGD9Y5",
        "outputId": "29d6e133-d70c-44f2-fdb4-91fef998e401"
      },
      "execution_count": null,
      "outputs": [
        {
          "output_type": "stream",
          "name": "stdout",
          "text": [
            "4\n",
            "15\n",
            "25\n",
            "70\n"
          ]
        }
      ]
    }
  ]
}